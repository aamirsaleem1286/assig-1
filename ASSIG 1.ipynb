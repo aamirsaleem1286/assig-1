{
 "cells": [
  {
   "cell_type": "code",
   "execution_count": 2,
   "metadata": {},
   "outputs": [
    {
     "name": "stdout",
     "output_type": "stream",
     "text": [
      "25\n",
      "5\n",
      "150\n",
      "0.6666666666666666\n"
     ]
    }
   ],
   "source": [
    "# calculator\n",
    "\n",
    "y=15\n",
    "z=10\n",
    "print(y+z)\n",
    "print(y-z)\n",
    "print(y*z)\n",
    "print(z/y)"
   ]
  },
  {
   "cell_type": "code",
   "execution_count": 1,
   "metadata": {},
   "outputs": [
    {
     "name": "stdout",
     "output_type": "stream",
     "text": [
      "you are right\n"
     ]
    }
   ],
   "source": [
    "# if statement\n",
    "a=30\n",
    "b=25\n",
    "c=5\n",
    "d=b+c\n",
    "if a ==d:\n",
    "    print(\"you are right\")\n",
    "else:\n",
    "    print(\"you are wrong\")\n",
    "      "
   ]
  },
  {
   "cell_type": "code",
   "execution_count": 17,
   "metadata": {},
   "outputs": [
    {
     "name": "stdout",
     "output_type": "stream",
     "text": [
      "second condition is applied\n"
     ]
    }
   ],
   "source": [
    "# if,or,and,elif statement\n",
    "\n",
    "a=85\n",
    "b=45\n",
    "c=35\n",
    "d=45\n",
    "e=35\n",
    "g=65\n",
    "if a == b or c==g : \n",
    "        print (\"first condition is applied\")\n",
    "elif b == d and c==e: \n",
    "        print (\"second condition is applied\")\n",
    "else:\n",
    "     (\"no condition is applied\")\n",
    "        "
   ]
  },
  {
   "cell_type": "code",
   "execution_count": 4,
   "metadata": {},
   "outputs": [
    {
     "name": "stdout",
     "output_type": "stream",
     "text": [
      "enter Islamiat your marks85\n",
      "enter URDU your marks89\n",
      "enter PHYSICS your marks95\n",
      "enter CHEMISTRY your marks91\n",
      "enter MATHS your marks98\n",
      "Aone grade\n"
     ]
    }
   ],
   "source": [
    "# marksheet\n",
    "a =int(input(\"enter Islamiat your marks\"))\n",
    "b =int(input(\"enter URDU your marks\"))\n",
    "c =int(input(\"enter PHYSICS your marks\"))\n",
    "d=int(input(\"enter CHEMISTRY your marks\"))\n",
    "e =int(input(\"enter MATHS your marks\"))\n",
    "if a >=70 and b >=70 and c >=70 and d >=70 and e >=70:\n",
    "    print(\"Aone grade\")\n",
    "if a >=60 and b >=60 and c >=60 and d >=60 and e >=60:\n",
    "    print(\"Aone grade\")\n",
    "if a >=50 and b >=50 and c >=50 and d >=50 and e >=50:\n",
    "    print(\"Aone grade\")\n",
    "if a >=40 and b >=40 and c >=40 and d >=40 and e >=40:\n",
    "    print(\"Aone grade\")\n",
    "\n",
    "else:\n",
    "    print(\"fail\")\n",
    "    "
   ]
  }
 ],
 "metadata": {
  "kernelspec": {
   "display_name": "Python 3",
   "language": "python",
   "name": "python3"
  },
  "language_info": {
   "codemirror_mode": {
    "name": "ipython",
    "version": 3
   },
   "file_extension": ".py",
   "mimetype": "text/x-python",
   "name": "python",
   "nbconvert_exporter": "python",
   "pygments_lexer": "ipython3",
   "version": "3.7.6"
  }
 },
 "nbformat": 4,
 "nbformat_minor": 4
}
